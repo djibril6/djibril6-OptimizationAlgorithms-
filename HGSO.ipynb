{
  "nbformat": 4,
  "nbformat_minor": 0,
  "metadata": {
    "colab": {
      "name": "HGSO.ipynb",
      "provenance": [],
      "collapsed_sections": [],
      "authorship_tag": "ABX9TyP9R30Z3NfLcCknZOYG+vfc"
    },
    "kernelspec": {
      "name": "python3",
      "display_name": "Python 3"
    }
  },
  "cells": [
    {
      "cell_type": "markdown",
      "metadata": {
        "id": "VwGJVDAZu6Sw"
      },
      "source": [
        "# Henry Gas Solubility Optimization (HGSO)\r\n",
        "Based on the paper: [Henry gas solubility optimization: A novel physics-based algorithm](https://www.sciencedirect.com/science/article/abs/pii/S0167739X19306557)"
      ]
    },
    {
      "cell_type": "code",
      "metadata": {
        "id": "VpxPxAGr276z"
      },
      "source": [
        "import numpy as np\r\n",
        "import matplotlib.pyplot as plt\r\n",
        "\r\n",
        "import time"
      ],
      "execution_count": 1,
      "outputs": []
    },
    {
      "cell_type": "code",
      "metadata": {
        "id": "C4EH7HYl4m6V"
      },
      "source": [
        "def f(X):\r\n",
        "  if len(X.shape) <= 1:\r\n",
        "    return np.sum(np.abs(X * np.sin(X) + .1*X))\r\n",
        "  return np.sum(np.abs(X * np.sin(X) + .1*X), axis=1)"
      ],
      "execution_count": 2,
      "outputs": []
    },
    {
      "cell_type": "code",
      "metadata": {
        "id": "2LeY1NKX5T58"
      },
      "source": [
        "#### CONFIG ####\r\n",
        "N = 50\r\n",
        "CLUSTER = 5\r\n",
        "DIMENSION = 30\r\n",
        "ITERATION = 1000\r\n",
        "l1 = 5e-2\r\n",
        "l2 = 100\r\n",
        "l3 = 1e-2\r\n",
        "T0 = 298.15\r\n",
        "K = 1\r\n",
        "alpha = 1\r\n",
        "beta = 1"
      ],
      "execution_count": 147,
      "outputs": []
    },
    {
      "cell_type": "markdown",
      "metadata": {
        "id": "vlphjumM3VuU"
      },
      "source": [
        "Initialisation"
      ]
    },
    {
      "cell_type": "code",
      "metadata": {
        "id": "JLtCFlya3UuM"
      },
      "source": [
        "def initialization(X_min, X_max, seed=2):\r\n",
        "  np.random.seed(seed)\r\n",
        "  r = np.random.rand(CLUSTER, DIMENSION, int(N/CLUSTER))\r\n",
        "  X = X_min + r*(X_max - X_min)\r\n",
        "\r\n",
        "  H = l1 * np.random.rand(CLUSTER, 1)\r\n",
        "\r\n",
        "  P = l2 * np.random.rand(CLUSTER, int(N/CLUSTER))\r\n",
        "\r\n",
        "  C = l3 * np.random.rand(CLUSTER, 1)\r\n",
        "  return X, H, P, C"
      ],
      "execution_count": 178,
      "outputs": []
    },
    {
      "cell_type": "markdown",
      "metadata": {
        "id": "OIktPMhY_VxC"
      },
      "source": [
        "Evaluation"
      ]
    },
    {
      "cell_type": "code",
      "metadata": {
        "id": "r_Js_JYu_Xsi"
      },
      "source": [
        "def evaluate(X):\r\n",
        "  fitness = f(X)\r\n",
        "\r\n",
        "  _local_best = np.argmin(fitness, axis=1)\r\n",
        "\r\n",
        "\r\n",
        "  temp = np.where(fitness == np.min(fitness))\r\n",
        "  _global_best = (temp[0][0], temp[1][0])\r\n",
        "\r\n",
        "  loc_best_X = []\r\n",
        "  for k in range(len(_local_best)):\r\n",
        "    loc_best_X.append(X[k, :, _local_best[k]])\r\n",
        "  loc_best_X = np.array(loc_best_X)\r\n",
        "\r\n",
        "  glob_best_X = X[_global_best[0], :, _global_best[1]]\r\n",
        "\r\n",
        "  glob_best_X = np.tile(glob_best_X, (CLUSTER, int(N/CLUSTER), 1))\r\n",
        "  glob_best_X = glob_best_X.reshape((CLUSTER, DIMENSION, int(N/CLUSTER)))\r\n",
        "  best_fitness = fitness[_global_best]\r\n",
        "  return fitness, loc_best_X, glob_best_X, best_fitness"
      ],
      "execution_count": 163,
      "outputs": []
    },
    {
      "cell_type": "markdown",
      "metadata": {
        "id": "lZR9SbnBHB_n"
      },
      "source": [
        "Update Henry’s coefficient"
      ]
    },
    {
      "cell_type": "code",
      "metadata": {
        "id": "AD1-zgZ_WC-A"
      },
      "source": [
        "def getF(value):\r\n",
        "  values = [-1, 1]\r\n",
        "  return values[value-1]"
      ],
      "execution_count": 164,
      "outputs": []
    },
    {
      "cell_type": "code",
      "metadata": {
        "id": "1t1_kBZezMWo"
      },
      "source": [
        "def update_henry(H, C, T0, iter, iteration):\r\n",
        "  # Update Henry’s coefficient\r\n",
        "  return H * np.exp(-C * (1/np.exp(-iter/iteration) - 1/T0))"
      ],
      "execution_count": 165,
      "outputs": []
    },
    {
      "cell_type": "code",
      "metadata": {
        "id": "T1aQVjXj0BfM"
      },
      "source": [
        "def update_solubility(H, K, P):\r\n",
        "  # Update solubility\r\n",
        "  return K * H * P"
      ],
      "execution_count": 166,
      "outputs": []
    },
    {
      "cell_type": "code",
      "metadata": {
        "id": "5DfmIBAQ0fNK"
      },
      "source": [
        "def update_position(X, S, fitness, loc_best_X, glob_best_X, best_fitness):\r\n",
        "  epsilon = .05\r\n",
        "  F = getF(int(2*np.random.rand()+1))\r\n",
        "  gama = beta * np.exp((best_fitness + epsilon) / (fitness + epsilon))\r\n",
        "  gama = gama.reshape(X.shape[0],1, X.shape[2])\r\n",
        "  loc_best_X = loc_best_X.reshape(X.shape[0], X.shape[1], 1)\r\n",
        "  S = S.reshape(X.shape[0],1, X.shape[2])\r\n",
        "  r = np.random.rand(CLUSTER, DIMENSION, int(N/CLUSTER))\r\n",
        "  X = X + F*r*gama*(loc_best_X - X) + F*r*alpha*(S*glob_best_X - X)\r\n",
        "  return X"
      ],
      "execution_count": 167,
      "outputs": []
    },
    {
      "cell_type": "code",
      "metadata": {
        "id": "_vmfa7dWTt9A"
      },
      "source": [
        "def worst_agent(X, G_min, G_max):\r\n",
        "  # Escape from local optimum and Update the position of the worst agents.\r\n",
        "    c1, c2 = .1, .2\r\n",
        "    n_w = int(X.shape[0]*X.shape[2] * (np.random.rand()*(c2 - c1) + c1))\r\n",
        "\r\n",
        "    # Get the n_w worst agents\r\n",
        "    fitness = f(X)\r\n",
        "    flat = fitness.flatten()\r\n",
        "    indices = np.argpartition(flat, -n_w)[-n_w:]\r\n",
        "    indices = indices[np.argsort(-flat[indices])]\r\n",
        "    worst_indices = np.unravel_index(indices, fitness.shape)\r\n",
        "    \r\n",
        "    # Update worst agent\r\n",
        "    r = np.random.rand(X.shape[1])\r\n",
        "    for k in range(n_w):\r\n",
        "      X[worst_indices[0][k], :, worst_indices[1][k]] = G_min + r*(G_max - G_min)\r\n",
        "    \r\n",
        "    fitness, _, _, _ = evaluate(X)\r\n",
        "    return X, fitness"
      ],
      "execution_count": 168,
      "outputs": []
    },
    {
      "cell_type": "code",
      "metadata": {
        "id": "OZBrZCPJ4fRw"
      },
      "source": [
        "def HGSO(X, X_min, X_max, H, C, P, K, fitness, loc_best_X, glob_best_X, best_fitness, T0, iter, ITERATION):\r\n",
        "    # Update Henry’s coefficient\r\n",
        "    H = update_henry(H, C, T0, iter, ITERATION)\r\n",
        "\r\n",
        "    # Update solubility\r\n",
        "    S = update_solubility(H, K, P)\r\n",
        "\r\n",
        "    # update position\r\n",
        "    X = update_position(X, S, fitness, loc_best_X, glob_best_X, best_fitness)\r\n",
        "\r\n",
        "    # Get the best solution in the swarm\r\n",
        "    fitness, loc_best_X, t_glob_best_X, t_best_fitness = evaluate(X)\r\n",
        "    if t_best_fitness < best_fitness:\r\n",
        "      best_fitness = t_best_fitness\r\n",
        "      glob_best_X = t_glob_best_X\r\n",
        "\r\n",
        "    # Escape from local optimum and Update the position of the worst agents.\r\n",
        "    G_min, G_max = X_min, X_max\r\n",
        "    X, fitness = worst_agent(X, G_min, G_max)\r\n",
        "    return X, fitness, loc_best_X, glob_best_X, best_fitness"
      ],
      "execution_count": 169,
      "outputs": []
    },
    {
      "cell_type": "code",
      "metadata": {
        "colab": {
          "base_uri": "https://localhost:8080/",
          "height": 346
        },
        "id": "kyHXsquFGIy-",
        "outputId": "9de31ebe-206e-4c51-fa73-78b93c30ef21"
      },
      "source": [
        "the_best = []\r\n",
        "X_min, X_max = -10, 10\r\n",
        "X, H, P, C = initialization(X_min, X_max)\r\n",
        "fitness, loc_best_X, glob_best_X, best_fitness = evaluate(X)\r\n",
        "\r\n",
        "tic = time.time()\r\n",
        "for iter in range(1, ITERATION+1):\r\n",
        "  X, fitness, loc_best_X, glob_best_X, best_fitness = HGSO(X, -10, 10, H, C, P, K, fitness, loc_best_X, glob_best_X, best_fitness, T0, iter, ITERATION)\r\n",
        "  the_best.append(best_fitness)\r\n",
        "\r\n",
        "toc = time.time()\r\n",
        "print(\"Computation time: {:f}\".format(toc-tic))\r\n",
        "print(\"Best is {:e}\".format(the_best[-1]))\r\n",
        "plt.suptitle(\"Convergence\")\r\n",
        "plt.plot(the_best)"
      ],
      "execution_count": 208,
      "outputs": [
        {
          "output_type": "stream",
          "text": [
            "Computation time: 0.405420\n",
            "Best is 2.074656e-104\n"
          ],
          "name": "stdout"
        },
        {
          "output_type": "execute_result",
          "data": {
            "text/plain": [
              "[<matplotlib.lines.Line2D at 0x7fd51cbcff98>]"
            ]
          },
          "metadata": {
            "tags": []
          },
          "execution_count": 208
        },
        {
          "output_type": "display_data",
          "data": {
            "image/png": "[encoded data removed]",
            "text/plain": [
              "<Figure size 432x288 with 1 Axes>"
            ]
          },
          "metadata": {
            "tags": [],
            "needs_background": "light"
          }
        }
      ]
    }
  ]
}